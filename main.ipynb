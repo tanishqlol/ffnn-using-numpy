{
 "cells": [
  {
   "cell_type": "code",
   "execution_count": 14,
   "id": "c4057356",
   "metadata": {},
   "outputs": [],
   "source": [
    "import numpy as np\n",
    "from model.neural_network import *\n",
    "import pandas as pd"
   ]
  },
  {
   "cell_type": "code",
   "execution_count": null,
   "id": "54763f7a",
   "metadata": {},
   "outputs": [
    {
     "name": "stdout",
     "output_type": "stream",
     "text": [
      "Final shape of training samples: (784, 50000)\n",
      "Final shape of training labels: (50000,)\n",
      "Final shape of validation samples: (784, 10000)\n",
      "Final shape of validation labels: (10000,)\n",
      "\n",
      "Starting training...\n",
      "Epoch 10/50, Loss: 0.1608\n",
      "Epoch 20/50, Loss: 0.0847\n",
      "Epoch 30/50, Loss: 0.0513\n",
      "Epoch 40/50, Loss: 0.0315\n",
      "Epoch 50/50, Loss: 0.0194\n",
      "\n",
      "Evaluating on validation set...\n",
      "Validation Accuracy: 0.9606\n",
      "\n",
      "Sample predictions vs true labels:\n",
      "Predicted: 3, True: 3\n",
      "Predicted: 2, True: 2\n",
      "Predicted: 7, True: 7\n",
      "Predicted: 8, True: 8\n",
      "Predicted: 2, True: 2\n",
      "Predicted: 3, True: 3\n",
      "Predicted: 5, True: 5\n",
      "Predicted: 2, True: 2\n",
      "Predicted: 8, True: 8\n",
      "Predicted: 9, True: 9\n"
     ]
    }
   ],
   "source": [
    "# training the network on MNIST data and checking its accuracy on the validation data\n",
    "\n",
    "# Load and prepare MNIST data \n",
    "df_train_full = pd.read_csv('./data/mnist_train.csv') \n",
    "df_val = df_train_full.sample(n=10000, random_state=1)\n",
    "df_train = df_train_full.drop(df_val.index)\n",
    "\n",
    "# Reset indices \n",
    "df_val = df_val.reset_index(drop=True)\n",
    "df_train = df_train.reset_index(drop=True)\n",
    "\n",
    "# Convert to numpy arrays and extract features/labels\n",
    "df_train = np.array(df_train)\n",
    "df_val = np.array(df_val)\n",
    "\n",
    "# Correct data extraction: columns 1 onwards for features, column 0 for labels\n",
    "X_train = df_train[:, 1:].T  # Shape: (784, num_train_samples)\n",
    "y_train = df_train[:, 0].astype(int)  # Shape: (num_train_samples,)\n",
    "\n",
    "X_val = df_val[:, 1:].T  # Shape: (784, num_val_samples)  \n",
    "y_val = df_val[:, 0].astype(int)  # Shape: (num_val_samples,)\n",
    "\n",
    "# Normalize pixel values to [0, 1]\n",
    "X_train = X_train / 255.0\n",
    "X_val = X_val / 255.0\n",
    "\n",
    "print(\"Final shape of training samples:\", X_train.shape)\n",
    "print(\"Final shape of training labels:\", y_train.shape)\n",
    "print(\"Final shape of validation samples:\", X_val.shape)\n",
    "print(\"Final shape of validation labels:\", y_val.shape)\n",
    "\n",
    "# Create network: 784 inputs (28x28 pixels) -> 128 hidden -> 10 outputs (digits 0-9)\n",
    "network = Network([784, 256, 10])\n",
    "\n",
    "# Train the network\n",
    "print(\"\\nStarting training...\")\n",
    "network.fit(X_train, y_train, epochs=50, learning_rate=0.1, batch_size=32)\n",
    "\n",
    "# Evaluate on validation set\n",
    "print(\"\\nEvaluating on validation set...\")\n",
    "val_predictions = network.predict(X_val)\n",
    "val_accuracy = np.mean(val_predictions == y_val)\n",
    "print(f\"Validation Accuracy: {val_accuracy:.4f}\")\n",
    "\n",
    "# Show some predictions\n",
    "print(\"\\nSample predictions vs true labels:\")\n",
    "for i in range(10):\n",
    "    print(f\"Predicted: {val_predictions[i]}, True: {y_val[i]}\")"
   ]
  }
 ],
 "metadata": {
  "kernelspec": {
   "display_name": ".env_ffnn-numpy",
   "language": "python",
   "name": "python3"
  },
  "language_info": {
   "codemirror_mode": {
    "name": "ipython",
    "version": 3
   },
   "file_extension": ".py",
   "mimetype": "text/x-python",
   "name": "python",
   "nbconvert_exporter": "python",
   "pygments_lexer": "ipython3",
   "version": "3.12.4"
  }
 },
 "nbformat": 4,
 "nbformat_minor": 5
}
